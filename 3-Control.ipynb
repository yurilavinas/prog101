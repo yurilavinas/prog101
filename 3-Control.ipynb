{
 "cells": [
  {
   "cell_type": "markdown",
   "metadata": {},
   "source": [
    "# Contents\n",
    "1. Comparisions & branching\n",
    "2. Indentation\n",
    "3. Loops & iteration "
   ]
  },
  {
   "cell_type": "markdown",
   "metadata": {},
   "source": [
    "#  2. Comparisions & branching"
   ]
  },
  {
   "cell_type": "markdown",
   "metadata": {},
   "source": [
    "## Comparisions"
   ]
  },
  {
   "cell_type": "markdown",
   "metadata": {},
   "source": [
    "We can compare variables or operators using:\n",
    "1. \">\", \"<\"\n",
    "2.\">=\", \"<=\"\n",
    "3. \"==\", equality, True if the variables have the same values\n",
    "4. \"!=\", inequality, True if the variables have the different values\n"
   ]
  },
  {
   "cell_type": "code",
   "execution_count": 9,
   "metadata": {},
   "outputs": [],
   "source": [
    "i = \"3\"\n",
    "j = \"5\""
   ]
  },
  {
   "cell_type": "code",
   "execution_count": 10,
   "metadata": {},
   "outputs": [
    {
     "name": "stdout",
     "output_type": "stream",
     "text": [
      "False\n",
      "True\n",
      "False\n",
      "False\n",
      "False\n",
      "True\n"
     ]
    }
   ],
   "source": [
    "print( i > j )\n",
    "print( i <= j )\n",
    "print( i == greet )\n",
    "print( i == 5 )\n",
    "print( i == \"5\" )\n",
    "print( greet != group )"
   ]
  },
  {
   "cell_type": "markdown",
   "metadata": {},
   "source": [
    "- There are specific logic operators for booleans (True/False operators)\n",
    "\n",
    "1. \"not\", invert: True if variable has False value, and vice-versa\n",
    "2. \"and\", True if both are True\n",
    "3. \"or\", True if at least one is True"
   ]
  },
  {
   "cell_type": "code",
   "execution_count": 11,
   "metadata": {},
   "outputs": [
    {
     "name": "stdout",
     "output_type": "stream",
     "text": [
      "False\n",
      "True\n",
      "True\n"
     ]
    }
   ],
   "source": [
    "a = True\n",
    "b = True\n",
    "print( not a )\n",
    "print( a and b )\n",
    "print( a or b )"
   ]
  },
  {
   "cell_type": "markdown",
   "metadata": {},
   "source": [
    "## Branching\n",
    "Is the idea of using conditions to determine which parts of the code to execute."
   ]
  },
  {
   "cell_type": "markdown",
   "metadata": {},
   "source": [
    "- Simple branch\n",
    "\n",
    "- ...code...\n",
    "\n",
    "- If condition:\n",
    "    - do this\n",
    "\n",
    "- ...code..."
   ]
  },
  {
   "cell_type": "code",
   "execution_count": 12,
   "metadata": {},
   "outputs": [
    {
     "name": "stdout",
     "output_type": "stream",
     "text": [
      "HiHiHiHiHi\n"
     ]
    }
   ],
   "source": [
    "number = 5\n",
    "if number == 5: #if the comparison is True, the code enters\n",
    "    print(greet*5)"
   ]
  },
  {
   "cell_type": "markdown",
   "metadata": {},
   "source": [
    "- Combined branch\n",
    "\n",
    "- ...code...\n",
    "\n",
    "- If condition:\n",
    "    - do this\n",
    "- else:\n",
    "    - do this instead\n",
    "\n",
    "- ...code..."
   ]
  },
  {
   "cell_type": "code",
   "execution_count": 13,
   "metadata": {},
   "outputs": [
    {
     "name": "stdout",
     "output_type": "stream",
     "text": [
      "Hi\n"
     ]
    }
   ],
   "source": [
    "number = 3\n",
    "if number == 5:\n",
    "    print(greet*5)\n",
    "else:\n",
    "    print(greet)"
   ]
  },
  {
   "cell_type": "markdown",
   "metadata": {},
   "source": [
    "- Complex branch\n",
    " \n",
    "- ...code...\n",
    "\n",
    "- If condition1:\n",
    "    - do this\n",
    "- elif condition2:\n",
    "    - do this instead\n",
    "- else:\n",
    "    - if no condition works, do this\n",
    "\n",
    "- ...code..."
   ]
  },
  {
   "cell_type": "code",
   "execution_count": 14,
   "metadata": {},
   "outputs": [
    {
     "name": "stdout",
     "output_type": "stream",
     "text": [
      "oi\n"
     ]
    }
   ],
   "source": [
    "number = None\n",
    "if number == 5:\n",
    "    print(greet*5)\n",
    "elif number == 3:\n",
    "    print(greet)\n",
    "else:\n",
    "    print(input(\"insert new greet...\"))"
   ]
  },
  {
   "cell_type": "code",
   "execution_count": 15,
   "metadata": {},
   "outputs": [
    {
     "name": "stdout",
     "output_type": "stream",
     "text": [
      "x is smaller\n",
      "thanks!\n"
     ]
    }
   ],
   "source": [
    "x = float(input(\"Enter a number for x: \"))\n",
    "y = float(input(\"Enter a number for y: \"))\n",
    "if x == y: # pay attention to the double equal sign. What happens if we only use one?\n",
    "   print(\"x and y are equal\")\n",
    "   if y != 0:\n",
    "       print(\"therefore, x / y is\", x/y)\n",
    "elif x < y:\n",
    "   print(\"x is smaller\")\n",
    "elif x > y:\n",
    "   print(\"y is smaller\")\n",
    "print(\"thanks!\")"
   ]
  },
  {
   "cell_type": "markdown",
   "metadata": {},
   "source": [
    "# Exercise\n",
    "Write an algorithm that recives two inputs (x and y) and shows the value of the biggest variable. If you have questions of when you're done, call me."
   ]
  },
  {
   "cell_type": "code",
   "execution_count": 16,
   "metadata": {},
   "outputs": [],
   "source": [
    "# Use this chunk to write the code\n"
   ]
  },
  {
   "cell_type": "markdown",
   "metadata": {},
   "source": [
    "# 3. Indentation\n",
    "In python, space between code *matters*!\n",
    "- Use either *tab* or the same number of white spaces (usually 2 or 4)\n",
    "    - I recommend *tab*, but this topic leads to very long discussions..."
   ]
  },
  {
   "cell_type": "code",
   "execution_count": 17,
   "metadata": {},
   "outputs": [],
   "source": [
    "number1 = 10\n",
    "number2 = 10\n",
    "\n",
    "if number1 != number1:\n",
    "    print(\"The numbers have different values\")\n",
    "    print(\"Done\")"
   ]
  },
  {
   "cell_type": "code",
   "execution_count": 18,
   "metadata": {},
   "outputs": [
    {
     "name": "stdout",
     "output_type": "stream",
     "text": [
      "Done\n"
     ]
    }
   ],
   "source": [
    "number1 = 10\n",
    "number2 = 10\n",
    "\n",
    "if number1 != number1:\n",
    "    print(\"The numbers have different values\")\n",
    "print(\"Done\")"
   ]
  },
  {
   "cell_type": "code",
   "execution_count": 19,
   "metadata": {},
   "outputs": [],
   "source": [
    "number1 = 10\n",
    "number2 = 5\n",
    "\n",
    "if number1 != number1:\n",
    "    print(\"The numbers have different values\")\n",
    "    print(\"Done\")"
   ]
  },
  {
   "cell_type": "code",
   "execution_count": 20,
   "metadata": {},
   "outputs": [
    {
     "name": "stdout",
     "output_type": "stream",
     "text": [
      "Done\n"
     ]
    }
   ],
   "source": [
    "number1 = 10\n",
    "number2 = 5\n",
    "\n",
    "if number1 != number1:\n",
    "    print(\"The numbers have different values\")\n",
    "print(\"Done\")"
   ]
  },
  {
   "cell_type": "markdown",
   "metadata": {},
   "source": [
    "# 4. Loops & iteration \n",
    "- The idea of using loops is to avoid repeating the same code multiple times (iterations).\n",
    "- There are two types of loops: *while* loops and *for* loops\n",
    "    - I recommend using *for* - they give us more control\n",
    "- All for loops can re-written as while loops\n",
    "    - the opposite isn't true... :(\n",
    "        "
   ]
  },
  {
   "cell_type": "markdown",
   "metadata": {},
   "source": [
    "### While\n",
    "- ...code...\n",
    "- while condition:\n",
    "    - ...code inside while...\n",
    "- ...code...\n",
    "\n",
    "- When the execution reaches the while *condition*, the algorithm evaluates if the it is True. In case of the condition being true the code code inside the while loop is executed, until the condition changes to False.\n",
    "\n",
    "- The reason why I prefer the loop is that it is easy to forget to change the while condition, or to know when it is going to change."
   ]
  },
  {
   "cell_type": "code",
   "execution_count": 21,
   "metadata": {},
   "outputs": [
    {
     "name": "stdout",
     "output_type": "stream",
     "text": [
      "0\n",
      "1\n",
      "2\n",
      "3\n",
      "4\n"
     ]
    }
   ],
   "source": [
    "n = 0\n",
    "while n < 5: # the condition here is our variable's value being smaller than 5\n",
    "   print(n)\n",
    "   n = n+1 # this is where we're controlling the value of n. Eventually we will increase n to a value higher than 5 and the previous condition will become False"
   ]
  },
  {
   "cell_type": "markdown",
   "metadata": {},
   "source": [
    "### For\n",
    "\n",
    "- ...code...\n",
    "- for variable in range(start=0, stop, step=1):\n",
    "    - ...code inside for...\n",
    "- ...code...\n",
    "\n",
    "- When the execution reaches the for *condition*, the algorithm enters it and set the *variable* (by the for side) to the value set in the *start* (if no value is given to start, start is equal to 0). \n",
    "- The loop is repeated until the variable is equal to *stop* - 1.\n",
    "- the value of the *variable* is incremented by the value in *step* (if no value is given to step, step is equal to 1). \n",
    "\n",
    "#### Simplest for loop and very frequently used\n",
    "- ...code...\n",
    "- for variable in range(stop)\n",
    "    - ...code inside for...\n",
    "- ...code..."
   ]
  },
  {
   "cell_type": "code",
   "execution_count": 22,
   "metadata": {},
   "outputs": [
    {
     "name": "stdout",
     "output_type": "stream",
     "text": [
      "0\n",
      "1\n",
      "2\n",
      "3\n",
      "4\n",
      "45\n"
     ]
    }
   ],
   "source": [
    "for n in range(5):\n",
    "   print(n)"
   ]
  },
  {
   "cell_type": "code",
   "execution_count": 25,
   "metadata": {},
   "outputs": [
    {
     "name": "stdout",
     "output_type": "stream",
     "text": [
      "45\n"
     ]
    }
   ],
   "source": [
    "mysum = 0\n",
    "for i in range(10):\n",
    "   mysum += i\n",
    "print(mysum)"
   ]
  },
  {
   "cell_type": "code",
   "execution_count": 23,
   "metadata": {},
   "outputs": [
    {
     "name": "stdout",
     "output_type": "stream",
     "text": [
      "24\n"
     ]
    }
   ],
   "source": [
    "mysum = 0\n",
    "for i in range(7, 10):\n",
    "   mysum += i\n",
    "print(mysum)"
   ]
  },
  {
   "cell_type": "markdown",
   "metadata": {},
   "source": [
    "# Exercise\n",
    "Write the differences between a for loop and a while loop."
   ]
  },
  {
   "cell_type": "markdown",
   "metadata": {},
   "source": [
    "### Use this chunk to writex your explanation\n",
    "-"
   ]
  },
  {
   "cell_type": "code",
   "execution_count": 24,
   "metadata": {},
   "outputs": [],
   "source": [
    "####################\n",
    "## EXAMPLE: perfect squares\n",
    "####################\n",
    "#ans = 0\n",
    "#neg_flag = False\n",
    "#x = int(input(\"Enter an integer: \"))\n",
    "#if x < 0:\n",
    "#    neg_flag = True\n",
    "#while ans**2 < x:\n",
    "#    ans = ans + 1\n",
    "#if ans**2 == x:\n",
    "#    print(\"Square root of\", x, \"is\", ans)\n",
    "#else:\n",
    "#    print(x, \"is not a perfect square\")\n",
    "#    if neg_flag:\n",
    "#        print(\"Just checking... did you mean\", -x, \"?\")\n"
   ]
  }
 ],
 "metadata": {
  "kernelspec": {
   "display_name": "Python 3",
   "language": "python",
   "name": "python3"
  },
  "language_info": {
   "codemirror_mode": {
    "name": "ipython",
    "version": 3
   },
   "file_extension": ".py",
   "mimetype": "text/x-python",
   "name": "python",
   "nbconvert_exporter": "python",
   "pygments_lexer": "ipython3",
   "version": "3.8.10"
  }
 },
 "nbformat": 4,
 "nbformat_minor": 2
}
