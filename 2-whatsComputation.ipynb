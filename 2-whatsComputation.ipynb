{
 "cells": [
  {
   "cell_type": "markdown",
   "metadata": {},
   "source": [
    "# Contents\n",
    "1. What is computation\n",
    "2. Python basics\n",
    "3. Mathematical operations\n",
    "4. Python variables and types"
   ]
  },
  {
   "cell_type": "markdown",
   "metadata": {},
   "source": [
    "# What does programming involve?\n",
    "- Represent knowledge with *data structures*\n",
    "- *Iteration* (and recursion):  repetion of a code chunk in a given order.\n",
    "- *Abstraction* of procedures and data types.\n",
    "- Understand classes of *algorithms* and their *complexity*"
   ]
  },
  {
   "cell_type": "markdown",
   "metadata": {},
   "source": [
    "# What does a computer do?\n",
    "- **What it is told to do by the programmer**\n",
    "    - via *code* \n",
    "- *Calculate* things fast, way faster than humans\n",
    "- *Stores* lots of data"
   ]
  },
  {
   "cell_type": "code",
   "execution_count": 32,
   "metadata": {},
   "outputs": [
    {
     "data": {
      "text/plain": [
       "12"
      ]
     },
     "execution_count": 32,
     "metadata": {},
     "output_type": "execute_result"
    }
   ],
   "source": [
    "# Calcule three times four <- this is a comment\n",
    "3*4"
   ]
  },
  {
   "cell_type": "markdown",
   "metadata": {},
   "source": [
    "# Algorithms\n",
    "- Recipe of *actions*\n",
    "- *sequence* of logical steps\n",
    "\n",
    "- We use *programming language* to create algorithms - python, C, R, Java...\n",
    "1. Each language have their own *primitive* operations \n",
    "    - usually, the main primitives are the same\n",
    "    - some primitives vary\n",
    "2. *Expressions* are combinations of such primitives\n",
    "3. We can store the values (results) of the expressions on *variables*"
   ]
  },
  {
   "cell_type": "code",
   "execution_count": 33,
   "metadata": {},
   "outputs": [
    {
     "name": "stdout",
     "output_type": "stream",
     "text": [
      "15.205295600000001\n"
     ]
    }
   ],
   "source": [
    "pi = 3.14159 # creating new variable\n",
    "radius = 2.2 # creating another variable\n",
    "# area of circle equation \n",
    "area = pi*(radius**2) # storing the result of the expression in the variable area\n",
    "print(area) # show what's in the variable area"
   ]
  },
  {
   "cell_type": "markdown",
   "metadata": {},
   "source": [
    "# TIP\n",
    "Try to use small and easy to remember names for variables\n",
    "area vs area_of_the_circle vs circleArea vs c1rcleofthe4rea"
   ]
  },
  {
   "cell_type": "markdown",
   "metadata": {},
   "source": [
    "# Syntax \n",
    "- Syntax: combination of symbols considered correct by a programming language\n",
    "- Easy to find and then to fix\n",
    "- Usually the code stops, some languages (C, Java) check those errors before running the code"
   ]
  },
  {
   "cell_type": "code",
   "execution_count": 34,
   "metadata": {},
   "outputs": [
    {
     "data": {
      "text/plain": [
       "2"
      ]
     },
     "execution_count": 34,
     "metadata": {},
     "output_type": "execute_result"
    }
   ],
   "source": [
    "1 + 1"
   ]
  },
  {
   "cell_type": "code",
   "execution_count": 35,
   "metadata": {},
   "outputs": [
    {
     "ename": "SyntaxError",
     "evalue": "invalid syntax (2524637.py, line 1)",
     "output_type": "error",
     "traceback": [
      "\u001b[0;36m  Cell \u001b[0;32mIn[35], line 1\u001b[0;36m\u001b[0m\n\u001b[0;31m    + 1 1\u001b[0m\n\u001b[0m        ^\u001b[0m\n\u001b[0;31mSyntaxError\u001b[0m\u001b[0;31m:\u001b[0m invalid syntax\n"
     ]
    }
   ],
   "source": [
    "+ 1 1"
   ]
  },
  {
   "cell_type": "markdown",
   "metadata": {},
   "source": [
    "# Semantic\n",
    "Semantic: syntactically valid code have meaning\n",
    "- An expression has only one meaning, but not always what we are looking for\n",
    "- Can be hard to find or to fix\n",
    "- The code can run without crashing\n",
    "- Gives an answer that can be the wrong one"
   ]
  },
  {
   "cell_type": "code",
   "execution_count": null,
   "metadata": {},
   "outputs": [
    {
     "data": {
      "text/plain": [
       "16.0"
      ]
     },
     "execution_count": 8,
     "metadata": {},
     "output_type": "execute_result"
    }
   ],
   "source": [
    "3.2*5"
   ]
  },
  {
   "cell_type": "code",
   "execution_count": null,
   "metadata": {},
   "outputs": [
    {
     "ename": "TypeError",
     "evalue": "can only concatenate str (not \"int\") to str",
     "output_type": "error",
     "traceback": [
      "\u001b[0;31m---------------------------------------------------------------------------\u001b[0m",
      "\u001b[0;31mTypeError\u001b[0m                                 Traceback (most recent call last)",
      "Cell \u001b[0;32mIn[7], line 1\u001b[0m\n\u001b[0;32m----> 1\u001b[0m \u001b[38;5;124;43m\"\u001b[39;49m\u001b[38;5;124;43mhi\u001b[39;49m\u001b[38;5;124;43m\"\u001b[39;49m\u001b[38;5;241;43m+\u001b[39;49m\u001b[38;5;241;43m5\u001b[39;49m\n",
      "\u001b[0;31mTypeError\u001b[0m: can only concatenate str (not \"int\") to str"
     ]
    }
   ],
   "source": [
    "\"hi\"* 5"
   ]
  },
  {
   "cell_type": "markdown",
   "metadata": {},
   "source": [
    "# Basic data types\n",
    "Scalar types: can't be divided\n",
    "- int: integer, 5\n",
    "- float: real numbers, 5.0\n",
    "- bool: True, False\n",
    "- NoneType: None\n",
    "\n",
    "Non scalar \n",
    "- strings: \"text\"\n",
    "- lists: [\"apple\", \"banana\", \"cherry\"]\n",
    "    - ordered, changeable, and allow duplicate values.\n",
    "- tuples: (\"apple\", \"banana\", \"cherry\")\n",
    "    - ordered and unchangeable\n",
    "- set: {\"apple\", \"banana\", \"cherry\"}\n",
    "    - unordered, unchangeable (but you can remove/add itens), and unindexed.\n",
    "- Dictionary: {\"brand\": \"Ford\", \"model\": \"Mustang\", \"year\": 1964}\n",
    "    - Dictionaries are used to store data values in key:value pairs.\n",
    "    - ordered, changeable and do not allow duplicates.\n",
    "\n",
    "We can check with the *type()* function"
   ]
  },
  {
   "cell_type": "code",
   "execution_count": null,
   "metadata": {},
   "outputs": [
    {
     "data": {
      "text/plain": [
       "int"
      ]
     },
     "execution_count": 13,
     "metadata": {},
     "output_type": "execute_result"
    }
   ],
   "source": [
    "type(5)"
   ]
  },
  {
   "cell_type": "code",
   "execution_count": null,
   "metadata": {},
   "outputs": [
    {
     "data": {
      "text/plain": [
       "float"
      ]
     },
     "execution_count": 14,
     "metadata": {},
     "output_type": "execute_result"
    }
   ],
   "source": [
    "type(5.0)"
   ]
  },
  {
   "cell_type": "code",
   "execution_count": null,
   "metadata": {},
   "outputs": [
    {
     "data": {
      "text/plain": [
       "float"
      ]
     },
     "execution_count": 11,
     "metadata": {},
     "output_type": "execute_result"
    }
   ],
   "source": [
    "type(5.)"
   ]
  },
  {
   "cell_type": "code",
   "execution_count": null,
   "metadata": {},
   "outputs": [
    {
     "data": {
      "text/plain": [
       "dict"
      ]
     },
     "execution_count": 10,
     "metadata": {},
     "output_type": "execute_result"
    }
   ],
   "source": [
    "type({\"brand\": \"Ford\", \"model\": \"Mustang\", \"year\": 1964})"
   ]
  },
  {
   "cell_type": "markdown",
   "metadata": {},
   "source": [
    "# Operators on ints and floats\n",
    "1. \"+\", if both are int, result is int. If either if float, result is float\n",
    "2. \"-\", same\n",
    "3. \"*\", same\n",
    "4. \"/\", result is always float\n",
    "---\n",
    "5. \"%\", remainder of the division\n",
    "6. \"**\", power \n"
   ]
  },
  {
   "cell_type": "code",
   "execution_count": null,
   "metadata": {},
   "outputs": [
    {
     "name": "stdout",
     "output_type": "stream",
     "text": [
      "1.5\n",
      "1\n",
      "8\n"
     ]
    }
   ],
   "source": [
    "print(3/2)\n",
    "print(3%2)\n",
    "print(2**3)"
   ]
  },
  {
   "cell_type": "code",
   "execution_count": null,
   "metadata": {},
   "outputs": [
    {
     "name": "stdout",
     "output_type": "stream",
     "text": [
      "10\n",
      "10\n",
      "6\n"
     ]
    }
   ],
   "source": [
    "# combination of multiple expressions\n",
    "## take care with the order, use () to guarantee what you want\n",
    "print( 3*4-2 )\n",
    "print( (3*4)-2 )\n",
    "print( 3*(4-2) )"
   ]
  },
  {
   "cell_type": "markdown",
   "metadata": {},
   "source": [
    "- Casting\n",
    "Sometimes, we want to change the type of a variable, we can do that by casting:"
   ]
  },
  {
   "cell_type": "code",
   "execution_count": 37,
   "metadata": {},
   "outputs": [
    {
     "name": "stdout",
     "output_type": "stream",
     "text": [
      "2\n",
      "3.0\n"
     ]
    }
   ],
   "source": [
    "print( int(2.0) )\n",
    "print( float(3) )"
   ]
  },
  {
   "cell_type": "code",
   "execution_count": null,
   "metadata": {},
   "outputs": [
    {
     "name": "stdout",
     "output_type": "stream",
     "text": [
      "15.205295600000001\n"
     ]
    }
   ],
   "source": [
    "pi = 3.14159 # creating new variable\n",
    "radius = 2.2 # creating another variable\n",
    "# area of circle equation \n",
    "area = pi*(radius**2) # storing the result of the expression in the variable area\n",
    "print(area) # show what's in the variable area"
   ]
  },
  {
   "cell_type": "code",
   "execution_count": null,
   "metadata": {},
   "outputs": [
    {
     "name": "stdout",
     "output_type": "stream",
     "text": [
      "15.205295600000001\n"
     ]
    }
   ],
   "source": [
    "pi = 3.14159 # creating new variable\n",
    "radius = 2.2 # creating another variable\n",
    "# area of circle equation \n",
    "area = pi*radius**2 # storing the result of the expression in the variable area\n",
    "print(area) # show what's in the variable area"
   ]
  },
  {
   "cell_type": "markdown",
   "metadata": {},
   "source": [
    "# Exercise\n",
    "- Calculate the area of triangle of base = 4 e height = 10 using the equation:\n",
    "\n",
    "```math\n",
    "area = \\frac{base \\times height}{2}\n",
    "```\n",
    "\n",
    "1. Show the area found.\n",
    "2. Later, generalize the code to any triangle.\n",
    "3. Then, show only the interger value of the result using casting."
   ]
  },
  {
   "cell_type": "code",
   "execution_count": null,
   "metadata": {},
   "outputs": [],
   "source": [
    "# Use this chunk to write the code\n"
   ]
  }
 ],
 "metadata": {
  "kernelspec": {
   "display_name": "Python 3",
   "language": "python",
   "name": "python3"
  },
  "language_info": {
   "codemirror_mode": {
    "name": "ipython",
    "version": 3
   },
   "file_extension": ".py",
   "mimetype": "text/x-python",
   "name": "python",
   "nbconvert_exporter": "python",
   "pygments_lexer": "ipython3",
   "version": "3.8.10"
  }
 },
 "nbformat": 4,
 "nbformat_minor": 2
}
