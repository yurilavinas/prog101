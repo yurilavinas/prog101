{
 "cells": [
  {
   "cell_type": "markdown",
   "metadata": {},
   "source": [
    "# Who am I?\n",
    "- Yuri Lavinas\n",
    "- From Brazil\n",
    "- PhD in CS from the University of Tsukuba, Japan\n",
    "- Football, movies, MTG, books, video games"
   ]
  },
  {
   "cell_type": "markdown",
   "metadata": {},
   "source": [
    "# Who are you?\n",
    "- Via wooclap\n",
    "- https://app.wooclap.com/NEMYDS?from=event-page\n",
    "\n",
    "### Questions\n",
    "1. Where are you from?\n",
    "2. What are your hobbies?\n",
    "3. Why are you taking this class?"
   ]
  },
  {
   "cell_type": "markdown",
   "metadata": {},
   "source": [
    "# Course Evaluation\n",
    "0. Self-evaluation #1\n",
    "1. Attendence\n",
    "2. In class participation\n",
    "3. Dedication\n",
    "4. Improvement\n",
    "5. Self-evaluation #2"
   ]
  },
  {
   "cell_type": "markdown",
   "metadata": {},
   "source": [
    "# Course structure\n",
    "1. Theoretical explanation\n",
    "2. Practical exercises\n",
    "3. Break\n",
    "4. Repeat"
   ]
  },
  {
   "cell_type": "markdown",
   "metadata": {},
   "source": [
    "# Tips\n",
    "- Based on the course available online at: https://ocw.mit.edu/courses/6-0001-introduction-to-computer-science-and-programming-in-python-fall-2016\n",
    "- Practice. Programming needs work, no one can learn it from passively watching classes\n",
    "- Try commands, especially in class where I can help!"
   ]
  },
  {
   "cell_type": "markdown",
   "metadata": {},
   "source": [
    "# Contents\n",
    "1 - This introduction\n",
    "2 - What is computation and basic programming? 1h\n",
    "3 - Control\n",
    "4 - Strings"
   ]
  }
 ],
 "metadata": {
  "language_info": {
   "name": "python"
  }
 },
 "nbformat": 4,
 "nbformat_minor": 2
}
